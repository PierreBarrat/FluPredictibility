{
 "cells": [
  {
   "cell_type": "code",
   "execution_count": 1,
   "metadata": {},
   "outputs": [
    {
     "name": "stderr",
     "output_type": "stream",
     "text": [
      "┌ Info: Precompiling Dierckx [39dd38d3-220a-591b-8e3c-4c3a8c710a94]\n",
      "└ @ Base loading.jl:1260\n"
     ]
    }
   ],
   "source": [
    "using FluPredictibility, FluPredictibility.BioTools, FluPredictibility.TreeTools\n",
    "using Plots, StatsPlots\n",
    "using StatsBase, Dates, Measures\n",
    "using Dierckx, KernelDensity\n",
    "using LaTeXStrings\n",
    "Flu = FluPredictibility\n",
    "include(\"../plot_functions.jl\")\n",
    "pyplot();"
   ]
  },
  {
   "cell_type": "code",
   "execution_count": 2,
   "metadata": {},
   "outputs": [
    {
     "data": {
      "text/plain": [
       "38"
      ]
     },
     "execution_count": 2,
     "metadata": {},
     "output_type": "execute_result"
    }
   ],
   "source": [
    "base= 20\n",
    "lfs = base # Legend font size\n",
    "alfs = base # axis label font size\n",
    "tfs = base # title font size\n",
    "atfs = base # axis ticks font size\n",
    "ga = 0.3 # grid alpha\n",
    "sizes = (1280,960) # standard size for single plots\n",
    "rl = 0.065 # position of the \"A\" or \"B\" label in % \n",
    "ms = 6 # marker size\n",
    "ls = 6 # line size\n",
    "annfs = 38"
   ]
  },
  {
   "cell_type": "code",
   "execution_count": 3,
   "metadata": {},
   "outputs": [
    {
     "name": "stdout",
     "output_type": "stream",
     "text": [
      "Reading ../alignments/aligned_h3n2_ha_aa.fasta...\n",
      "Read 44976 strains out of 61848. Filtered 16872. Could not read 0\n"
     ]
    }
   ],
   "source": [
    "fp = Flu.FluPop(\"../alignments/aligned_h3n2_ha_aa.fasta\", :aa, \n",
    "    Flu.flu_usual_header_fields, flulineage=\"h3n2\", segment=\"ha\");"
   ]
  },
  {
   "cell_type": "code",
   "execution_count": 4,
   "metadata": {},
   "outputs": [],
   "source": [
    "binwidth = Day(30);\n",
    "binspacing = Day(30);\n",
    "startdate = Date(2000) \n",
    "Flu.bin_by_date!(fp, start = startdate, binwidth=binwidth, binspacing = binspacing);"
   ]
  },
  {
   "cell_type": "code",
   "execution_count": null,
   "metadata": {},
   "outputs": [
    {
     "name": "stdout",
     "output_type": "stream",
     "text": [
      "300       \r"
     ]
    }
   ],
   "source": [
    "ph_all = Flu.PosEvo(fp);"
   ]
  },
  {
   "cell_type": "code",
   "execution_count": null,
   "metadata": {},
   "outputs": [],
   "source": [
    "trajectories = Flu.all_trajectories(ph_all, keep_unfinished=true)\n",
    "trajectories = Flu.previous_state_condition(trajectories, :lost)\n",
    "trajectories = Flu.population_size_condition(trajectories, 10);\n",
    "trajectories = Flu.frequency_condition(trajectories,0.30);\n",
    "println(\"$(length(trajectories)) trajectories\")"
   ]
  },
  {
   "cell_type": "markdown",
   "metadata": {},
   "source": [
    "## Rising trajectories at 30% frequency"
   ]
  },
  {
   "cell_type": "code",
   "execution_count": null,
   "metadata": {},
   "outputs": [],
   "source": [
    "αp = 0.4\n",
    "αf = 0.25\n",
    "cfixed = :red; clost = :blue; cother = :black\n",
    "lw = 2"
   ]
  },
  {
   "cell_type": "code",
   "execution_count": null,
   "metadata": {},
   "outputs": [],
   "source": [
    "lostflag= false\n",
    "fixedflag = false\n",
    "otherflag = false\n",
    "p = plot()\n",
    "# Time = 0 line\n",
    "plot!(p, [0, 0], [0, 1.], line=(3, :black), label=\"\", alpha=0.5)\n",
    "# Fixation and loss lines\n",
    "plot!(p, [-24*30, 36*30], [0.95, 0.95], line=(:red, :dash), label=\"\")\n",
    "plot!(p, [-24*30, 36*30], [0.05, 0.05], line=(:blue, :dash), label=\"\")\n",
    "#Frequency bin\n",
    "plot!(p, [-24*30, 0], [0.25, 0.25], line=(:black, 2, 0.7), label=\"\")\n",
    "plot!(p, [-24*30, 0], [0.35, 0.35], line=(:black, 2, 0.7), label=\"\")\n",
    "# Arrows\n",
    "plot!(p, [-17*30, -17*30], [0.25,0.35], arrow=1.1, color=:black, label=\"\")\n",
    "plot!(p, [-17*30, -17*30], [0.35,0.25], arrow=1.1, color=:black, label=\"\")\n",
    "plot!(p, ann=(-21*30, 0.3, text(L\"f_0\", 30)))\n",
    "\n",
    "for traj in trajectories\n",
    "    if !ismissing(traj.index[:start]) && !ismissing(traj.index[:end])\n",
    "        istart = traj.index[:start]; iend = traj.index[:end]; iact = traj.index[:active]\n",
    "        if traj.fixation==:lost\n",
    "            lab = lostflag ? \"\" : \"\"\n",
    "            lostflag=true\n",
    "            plot!(p, [x.value for x in traj.t[istart:iact]], traj.freq[istart:iact], \n",
    "                label=lab, alpha=αp, color=clost, linewidth=lw)\n",
    "            plot!(p, [x.value for x in traj.t[iact:iend]], traj.freq[iact:iend], \n",
    "                label=\"\", alpha=αf, color=clost, line=(lw, :dashdot))\n",
    "        elseif traj.fixation==:fixed\n",
    "            lab = fixedflag ? \"\" : \"\"\n",
    "            fixedflag=true\n",
    "            plot!(p, [x.value for x in traj.t[istart:iact]], traj.freq[istart:iact], \n",
    "                label=lab, alpha=αp, color=cfixed, linewidth=lw)\n",
    "            plot!(p, [x.value for x in traj.t[iact:iend]], traj.freq[iact:iend], \n",
    "                label=\"\", alpha=αf, color=cfixed, line=(lw, :dashdot))\n",
    "        else\n",
    "            lab = otherflag ? \"\" : \"\"\n",
    "            otherflag=true\n",
    "            plot!(p, [x.value for x in traj.t[istart:iact]], traj.freq[istart:iact], \n",
    "                label=lab, alpha=αp, color=cother, linewidth=lw)\n",
    "            plot!(p, [x.value for x in traj.t[iact:iend]], traj.freq[iact:iend], \n",
    "                label=\"\", alpha=αf, color=cother, line=(lw, :dashdot))\n",
    "        end\n",
    "    end\n",
    "end\n",
    "plot!(p, size=(1280, 960), frame=:box)\n",
    "plot!(p, guidefontsize=atfs, tickfontsize= atfs, legendfontsize = 22)\n",
    "plot!(xlabel=\"Days\", ylabel=\"\")\n",
    "plot!(p, xlim=(-24*30,30*36))\n",
    "plot!(p, yticks = [0., 0.3, 1.])\n",
    "plot!(p, ann = (-20.5*30, 0.95, text(\"B\",annfs)))\n",
    "p2_sb2 = p;"
   ]
  },
  {
   "cell_type": "markdown",
   "metadata": {},
   "source": [
    "# Propagator"
   ]
  },
  {
   "cell_type": "code",
   "execution_count": null,
   "metadata": {},
   "outputs": [],
   "source": [
    "dat = Dict()\n",
    "for traj in trajectories\n",
    "    is = traj.index[:active]\n",
    "    ie = is+48\n",
    "    for i in is:ie\n",
    "        if i > length(traj.t)\n",
    "            t = (i-is)*binspacing.value\n",
    "            traj.fixation != :poly && push!(get!(dat,t,Float64[]), traj.fixation==:fixed ? 1. : 0.)\n",
    "        else\n",
    "            push!(get!(dat,traj.t[i].value,Float64[]), traj.freq[i])\n",
    "        end\n",
    "    end\n",
    "end"
   ]
  },
  {
   "cell_type": "code",
   "execution_count": null,
   "metadata": {},
   "outputs": [],
   "source": [
    "p = plot()\n",
    "entropy_v_time = []\n",
    "bins = vcat(0., collect(0.05:0.15:0.95), 1.001)\n",
    "xs = vcat(0., collect(0.12:0.15:0.87), 1.)\n",
    "for (i,t) in enumerate([0,30,60,120,360])\n",
    "    h = fit(Histogram, dat[t], bins)\n",
    "    ys = h.weights/sum(h.weights)\n",
    "    scatter!(p, xs, ys, label=\"$t days\", color=i)\n",
    "    # Fitting a spline\n",
    "    itp = Spline1D(xs, ys,k=2)\n",
    "    x = 0.0:0.01:1.\n",
    "    plot!(p, x, max.(itp(x),0.), label=\"\", color=i)\n",
    "    push!(entropy_v_time, [t StatsBase.entropy(h.weights/sum(h.weights))])\n",
    "end\n",
    "p"
   ]
  },
  {
   "cell_type": "code",
   "execution_count": null,
   "metadata": {},
   "outputs": [],
   "source": [
    "pa = []\n",
    "entropy_v_time = []\n",
    "bins = vcat(0., collect(0.05:0.15:0.95), 1.001)\n",
    "xs = vcat(0., collect(0.05:0.15:0.8) .+ 0.1, 1.)\n",
    "\n",
    "tvalues = [0,30,60,120,360,720]\n",
    "for (i,t) in enumerate(tvalues)\n",
    "    h = fit(Histogram, dat[t], bins)\n",
    "    y = h.weights/sum(h.weights)\n",
    "    # Fitting a spline\n",
    "#     itp = CubicSplineInterpolation(xs, y[2:end-1])\n",
    "    itp = Spline1D(xs,y,k=2)\n",
    "    itplin = Spline1D(xs,y,k=1)\n",
    "    f(x) = itplin(x)==0. ? 0. : (itplin(x) == 1. ? 1. : itp(x))\n",
    "    x = min(xs...):0.01:max(xs...)\n",
    "    # \n",
    "    push!(entropy_v_time, [t StatsBase.entropy(h.weights/sum(h.weights))])\n",
    "    # Plot\n",
    "    p = scatter(xs, y, label=\"$t days\", color=i, markerstrokewidth=0.5, markersize=12) # data\n",
    "    plot!(p, x, f.(x), label=\"\", color=i, line=(3, 0.5))\n",
    "    plot!(p, size=(1000,200), ylim=(-0.07,1.08), xlim=(-0.05,1.05), yticks=[0.,0.5,1.], legendfontsize=lfs)\n",
    "    plot!(xticks=collect(0.1:0.2:0.9))\n",
    "    plot!(p, tickfontsize=tfs, guidefontsize=alfs)\n",
    "#     plot!(xticks=(vcat(0., collect(0.05:0.15:0.95), 1.0))\n",
    "    if i == length(tvalues) || i == div(length(tvalues),2)\n",
    "        plot!(p, xlabel=\"Frequency of mutation\", guidefontsize=alfs, xtickfontsize=tfs)\n",
    "    else\n",
    "        plot!(p, xlabelfontsize=0, xtickfontsize=0)\n",
    "    end\n",
    "    if t == 0 \n",
    "        plot!(p, ann=(0.02, 1.25, text(\"C\",annfs)))\n",
    "    end\n",
    "    push!(pa, p)\n",
    "end\n",
    "entropy_v_time = vcat(entropy_v_time...);"
   ]
  },
  {
   "cell_type": "code",
   "execution_count": null,
   "metadata": {},
   "outputs": [],
   "source": [
    "p_st_1 = plot(pa[1:3]..., ylabel=[\"\" L\"P(f)\" \"\"], layout=(div(length(pa),2),1), size=(640,640), margin = 5mm, guidefontsize = atfs)\n",
    "# plot!(p_st_1, xticks = [0.1, 0.3, 0.5, 0.7, 0.9])\n",
    "p_st_2 = plot(pa[4:6]..., ylabel=[\"\" \"\" \"\"], layout=(div(length(pa),2),1), size=(640,480), margin=5mm)\n",
    "p2_sb3 = plot(p_st_1, p_st_2, layout=grid(1,2), size=(1280, 640))"
   ]
  },
  {
   "cell_type": "code",
   "execution_count": null,
   "metadata": {},
   "outputs": [],
   "source": [
    "f(x,xe) = exp(x/xe) / (1+exp(x/xe)) \n",
    "g(x) = x^2/2\n",
    "X = -30:-3\n",
    "Y = f.(X,4)\n",
    "x2 = -3:3\n",
    "#\n",
    "p = plot()\n",
    "plot!(X,Y,ylim=(0,1),xlim=(-30,10), size=(640,640), label=\"\", linewidth=3)\n",
    "plot!(p, x2, 2*(f.(x2,4) .- Y[end]).^2 + f.(x2,4), line=(3,:dash, :black), label=\"\",fill=(0,:orange))\n",
    "plot!(p, x2, -3*(f.(x2,4) .- Y[end]).^2 + f.(x2,4), line=(3,:dash, :black), label=\"\", fill=(0,:white))\n",
    "plot!(p,[-3,-3], [0,1], line=(2, :black),label=\"\", alpha=0.3)\n",
    "plot!(p, [-30, -3], [f(-3,4), f(-3,4)], label=\"\", line=(2,:black,0.3))\n",
    "plot!(guidefontsize=alfs, tickfontsize=tfs)\n",
    "plot!(yticks = [0., 0.5, 1.])\n",
    "plot!(ann = (2., 0.5, text(\"?\",36)))\n",
    "plot!(ann = [(-28, 0.25, text(L\"f_0\",36)), (-0.75, 0.05, text(L\"t_0\",36))] )\n",
    "plot!(ann = (-27, 0.93, text(\"A\",annfs)))\n",
    "plot!(p, xtickfontsize=0, xlabel=\"Time\",ylabel=\"Frequency\", frame=:box)\n",
    "p2_sb1 = p;\n",
    "plot!(p, size=(1280,960))\n"
   ]
  },
  {
   "cell_type": "code",
   "execution_count": null,
   "metadata": {},
   "outputs": [],
   "source": [
    "tmp = plot(p2_sb1, p2_sb2, layout=grid(1,2), size=(1280,640), right_margin=5.1mm)\n",
    "p2 = plot(tmp, p2_sb3, layout = grid(2,1), size=(1280,1280), margin = 5mm)"
   ]
  },
  {
   "cell_type": "code",
   "execution_count": null,
   "metadata": {},
   "outputs": [],
   "source": []
  },
  {
   "cell_type": "code",
   "execution_count": null,
   "metadata": {},
   "outputs": [],
   "source": []
  },
  {
   "cell_type": "code",
   "execution_count": null,
   "metadata": {},
   "outputs": [],
   "source": [
    "x = Int64[]\n",
    "y = Float64[]\n",
    "tidx = [-4,-2,0, 1, 2, 4, 6, 12, 24]\n",
    "for traj in trajectories\n",
    "    is = traj.index[:active]\n",
    "    ie = is+3\n",
    "    idx = is .+ tidx\n",
    "    for (ii,i) in enumerate(idx)\n",
    "        if i > length(traj.t)\n",
    "            t = (i-is)*binspacing.value\n",
    "            traj.fixation != :poly && push!(y, traj.fixation==:fixed ? 1. : 0.)\n",
    "            traj.fixation != :poly && push!(x, ii)\n",
    "        elseif i > 0\n",
    "            push!(y, traj.freq[i])\n",
    "            push!(x, ii)\n",
    "        end\n",
    "    end\n",
    "end"
   ]
  },
  {
   "cell_type": "code",
   "execution_count": null,
   "metadata": {},
   "outputs": [],
   "source": [
    "p = violin(x,y, label=\"\")\n",
    "plot!(p, xticks = (collect(1:length(tidx)), [\"$(i*binspacing.value) days\" for i in tidx]) )\n",
    "# plot!(title=\"Days after observation\")\n",
    "plot!(ylabel=\"Frequency of mutation\")\n",
    "plot!(size=(1200,900), frame=:box, tickfontsize=atfs, guidefontsize=alfs)\n",
    "savefig(\"$(plotfolder)/Distribution_v_time_violins.png\")"
   ]
  },
  {
   "cell_type": "code",
   "execution_count": null,
   "metadata": {},
   "outputs": [],
   "source": []
  },
  {
   "cell_type": "code",
   "execution_count": null,
   "metadata": {},
   "outputs": [],
   "source": []
  },
  {
   "cell_type": "code",
   "execution_count": null,
   "metadata": {},
   "outputs": [],
   "source": []
  },
  {
   "cell_type": "code",
   "execution_count": null,
   "metadata": {},
   "outputs": [],
   "source": []
  }
 ],
 "metadata": {
  "kernelspec": {
   "display_name": "Julia 1.4.1",
   "language": "julia",
   "name": "julia-1.4"
  },
  "language_info": {
   "file_extension": ".jl",
   "mimetype": "application/julia",
   "name": "julia",
   "version": "1.4.1"
  }
 },
 "nbformat": 4,
 "nbformat_minor": 2
}
