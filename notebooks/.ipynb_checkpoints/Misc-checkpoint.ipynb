{
 "cells": [
  {
   "cell_type": "code",
   "execution_count": 282,
   "metadata": {},
   "outputs": [
    {
     "data": {
      "text/plain": [
       "pfix_v_freq_positivederivative"
      ]
     },
     "execution_count": 282,
     "metadata": {},
     "output_type": "execute_result"
    }
   ],
   "source": [
    "using BioTools, BioTools.Flu, BioSequences\n",
    "using Plots\n",
    "using StatsBase, Dates, Statistics, JSON, FastaIO, Random, DataStructures, DelimitedFiles, JSON\n",
    "include(\"../../h3n2/wscripts/functions/plot_functions.jl\")"
   ]
  },
  {
   "cell_type": "markdown",
   "metadata": {},
   "source": [
    "# Keeping only the gene part of sequences \n",
    "According to reference sequence"
   ]
  },
  {
   "cell_type": "markdown",
   "metadata": {},
   "source": [
    "# Warning: I kept the stop codon in there..."
   ]
  },
  {
   "cell_type": "code",
   "execution_count": 182,
   "metadata": {},
   "outputs": [
    {
     "data": {
      "text/plain": [
       "\"../alignments/aligned_h1n1pdm_na.fasta\""
      ]
     },
     "execution_count": 182,
     "metadata": {},
     "output_type": "execute_result"
    }
   ],
   "source": [
    "in_ha = \"../alignments/aligned_h1n1pdm_ha_all.fasta\"\n",
    "in_na = \"../alignments/aligned_h1n1pdm_na_all.fasta\"\n",
    "#\n",
    "out_ha = \"../alignments/aligned_h1n1pdm_ha.fasta\"\n",
    "out_na = \"../alignments/aligned_h1n1pdm_na.fasta\""
   ]
  },
  {
   "cell_type": "code",
   "execution_count": 203,
   "metadata": {},
   "outputs": [],
   "source": [
    "# HA \n",
    "open(out_ha, \"w\") do of\n",
    "    for (header,seq) in FastaReader(in_ha)\n",
    "        writefasta(out_ha, [(header, seq[21:1718])], \"a\")\n",
    "    end\n",
    "end\n",
    "# NA\n",
    "open(out_na, \"w\") do of\n",
    "    for (header,seq) in FastaReader(in_na)\n",
    "        writefasta(out_na, [(header, seq[9:1415])], \"a\")\n",
    "    end\n",
    "end"
   ]
  },
  {
   "cell_type": "markdown",
   "metadata": {},
   "source": [
    "# Subsampling sequences to build tree."
   ]
  },
  {
   "cell_type": "code",
   "execution_count": 204,
   "metadata": {},
   "outputs": [
    {
     "data": {
      "text/plain": [
       "\"../data/trees/25_per_month_ha/aligned_ha_25permonth.fasta\""
      ]
     },
     "execution_count": 204,
     "metadata": {},
     "output_type": "execute_result"
    }
   ],
   "source": [
    "infasta = \"../alignments/aligned_h1n1pdm_ha.fasta\"\n",
    "outfasta = \"../data/trees/25_per_month_ha/aligned_ha_25permonth.fasta\""
   ]
  },
  {
   "cell_type": "code",
   "execution_count": 205,
   "metadata": {},
   "outputs": [
    {
     "name": "stdout",
     "output_type": "stream",
     "text": [
      "Reading ../alignments/aligned_h1n1pdm_ha.fasta...\n",
      "Read 45317 strains out of 54146. Filtered 8748. Could not read 81\n"
     ]
    }
   ],
   "source": [
    "fp = Flu.FluPop(infasta, :dna, Flu.flu_usual_header_fields, \n",
    "    ignore_read_errors=true); "
   ]
  },
  {
   "cell_type": "code",
   "execution_count": 206,
   "metadata": {},
   "outputs": [],
   "source": [
    "startdate = Date(2009)\n",
    "binwidth = Day(30)\n",
    "binspacing = Day(30)\n",
    "Flu.bin_by_date!(fp, start=startdate, binwidth=binwidth, binspacing=binspacing)"
   ]
  },
  {
   "cell_type": "code",
   "execution_count": 207,
   "metadata": {},
   "outputs": [],
   "source": [
    "strainlist = String[]\n",
    "nperbin = 25\n",
    "for st in values(fp.datebin)\n",
    "    if length(st) > nperbin\n",
    "        append!(strainlist, [x[:strain] for x in st[randperm(length(st))[1:nperbin]]])\n",
    "    else\n",
    "        append!(strainlist, [x[:strain] for x in st])\n",
    "    end\n",
    "end"
   ]
  },
  {
   "cell_type": "code",
   "execution_count": 208,
   "metadata": {},
   "outputs": [],
   "source": [
    "for (header,seq) in FastaReader(infasta)\n",
    "    if length(seq) != 1698\n",
    "        println(header)\n",
    "        println(length(seq))\n",
    "    end\n",
    "end"
   ]
  },
  {
   "cell_type": "code",
   "execution_count": 210,
   "metadata": {},
   "outputs": [],
   "source": [
    "of = open(outfasta, \"w\")\n",
    "for (header,seq) in FastaReader(infasta)\n",
    "    name = header[1:findfirst(x->x=='|', header)-1]\n",
    "    if in(name, strainlist)\n",
    "        writefasta(outfasta, [(header, seq)], \"a\")\n",
    "    end\n",
    "end\n",
    "close(of)"
   ]
  },
  {
   "cell_type": "markdown",
   "metadata": {},
   "source": [
    "# Translating sequences"
   ]
  },
  {
   "cell_type": "code",
   "execution_count": 211,
   "metadata": {},
   "outputs": [],
   "source": [
    "in_ha = \"../alignments/aligned_h1n1pdm_ha.fasta\"\n",
    "out_ha = \"../alignments/aligned_h1n1pdm_ha_aa.fasta\";\n",
    "#\n",
    "in_na = \"../alignments/aligned_h1n1pdm_na.fasta\"\n",
    "out_na = \"../alignments/aligned_h1n1pdm_na_aa.fasta\";"
   ]
  },
  {
   "cell_type": "code",
   "execution_count": 212,
   "metadata": {},
   "outputs": [],
   "source": [
    "of = open(out_ha, \"w\")\n",
    "for (header,seq) in FastaReader(in_ha)\n",
    "    s = BioTools.translate(LongDNASeq(replace(seq[1:end-3], r\"[EFIJLOPQUXZ-]\"i=>\"N\")))\n",
    "    writefasta(out_ha, [(header, s)], \"a\")\n",
    "end\n",
    "close(of)\n",
    "#\n",
    "of = open(out_na, \"w\")\n",
    "for (header,seq) in FastaReader(in_na)\n",
    "    s = BioTools.translate(LongDNASeq(replace(seq[1:end-3], r\"[EFIJLOPQUXZ-]\"i=>\"N\")))\n",
    "    writefasta(out_na, [(header, s)], \"a\")\n",
    "end\n",
    "close(of)"
   ]
  },
  {
   "cell_type": "markdown",
   "metadata": {},
   "source": [
    "# Monomorphic positions"
   ]
  },
  {
   "cell_type": "code",
   "execution_count": 256,
   "metadata": {},
   "outputs": [
    {
     "data": {
      "text/plain": [
       "\"../alignments/aligned_h1n1pdm_na_aa.fasta\""
      ]
     },
     "execution_count": 256,
     "metadata": {},
     "output_type": "execute_result"
    }
   ],
   "source": [
    "in_ha = \"../alignments/aligned_h1n1pdm_ha_aa.fasta\"\n",
    "in_na = \"../alignments/aligned_h1n1pdm_na_aa.fasta\""
   ]
  },
  {
   "cell_type": "code",
   "execution_count": 257,
   "metadata": {},
   "outputs": [
    {
     "name": "stdout",
     "output_type": "stream",
     "text": [
      "Reading ../alignments/aligned_h1n1pdm_ha_aa.fasta...\n",
      "Read 45404 strains out of 54146. Filtered 8742. Could not read 0\n",
      "Reading ../alignments/aligned_h1n1pdm_na_aa.fasta...\n",
      "Read 40470 strains out of 42854. Filtered 2384. Could not read 0\n"
     ]
    }
   ],
   "source": [
    "fp_ha = Flu.FluPop(in_ha, :aa, Flu.flu_usual_header_fields, \n",
    "    ignore_read_errors=true); \n",
    "fp_na = Flu.FluPop(in_na, :aa, Flu.flu_usual_header_fields, \n",
    "    ignore_read_errors=true); "
   ]
  },
  {
   "cell_type": "code",
   "execution_count": 258,
   "metadata": {},
   "outputs": [],
   "source": [
    "startdate = Date(2009)\n",
    "binwidth = Day(30)\n",
    "binspacing = Day(30)\n",
    "Flu.bin_by_date!(fp_ha, start=startdate, binwidth=binwidth, binspacing=binspacing)\n",
    "Flu.bin_by_date!(fp_na, start=startdate, binwidth=binwidth, binspacing=binspacing)"
   ]
  },
  {
   "cell_type": "code",
   "execution_count": 259,
   "metadata": {},
   "outputs": [
    {
     "name": "stdout",
     "output_type": "stream",
     "text": [
      "468       \r"
     ]
    }
   ],
   "source": [
    "ph_ha = PosEvo(fp_ha);\n",
    "ph_na = PosEvo(fp_na);"
   ]
  },
  {
   "cell_type": "code",
   "execution_count": 276,
   "metadata": {},
   "outputs": [],
   "source": [
    "mp_ha = Int64[]\n",
    "for (i,p) in enumerate(ph_ha)\n",
    "    !Flu.ispoly(p) && push!(mp_ha, i)\n",
    "end\n",
    "writedlm(\"../data/monomorphic_positions_ha.txt\", mp_ha)"
   ]
  },
  {
   "cell_type": "code",
   "execution_count": 277,
   "metadata": {},
   "outputs": [],
   "source": [
    "mp_na = Int64[]\n",
    "for (i,p) in enumerate(ph_na)\n",
    "    !Flu.ispoly(p) && push!(mp_na, i)\n",
    "end\n",
    "writedlm(\"../data/monomorphic_positions_na.txt\", mp_na)"
   ]
  },
  {
   "cell_type": "markdown",
   "metadata": {},
   "source": [
    "# Epitopes"
   ]
  },
  {
   "cell_type": "code",
   "execution_count": 305,
   "metadata": {},
   "outputs": [],
   "source": [
    "authors = [\"canton\", \"ha1_globular_head\"]\n",
    "for a in authors\n",
    "    path = \"$(homedir())/Documents/BaleLabo/Data/FluReview/seasonal-flu/config/distance_maps/h1n1pdm/ha/$(a).json\"\n",
    "    jsonf = JSON.Parser.parsefile(path)\n",
    "    pos = sort(parse.(Int64, collect(keys(jsonf[\"map\"][\"HA1\"])))) .+ 17\n",
    "    writedlm(\"../data/epitopes/ha/epitope_positions_$(a).txt\", pos)\n",
    "end"
   ]
  },
  {
   "cell_type": "markdown",
   "metadata": {},
   "source": [
    "# Binary positions"
   ]
  },
  {
   "cell_type": "code",
   "execution_count": 317,
   "metadata": {},
   "outputs": [],
   "source": [
    "binary_ha = Int64[]\n",
    "for (i,p) in enumerate(ph_ha)\n",
    "    Flu.isbinary(p) && push!(binary_ha, i)\n",
    "end\n",
    "writedlm(\"../data/binary_positions_ha.txt\", binary_ha)"
   ]
  },
  {
   "cell_type": "code",
   "execution_count": null,
   "metadata": {},
   "outputs": [],
   "source": []
  }
 ],
 "metadata": {
  "kernelspec": {
   "display_name": "Julia 1.4.1",
   "language": "julia",
   "name": "julia-1.4"
  },
  "language_info": {
   "file_extension": ".jl",
   "mimetype": "application/julia",
   "name": "julia",
   "version": "1.4.1"
  }
 },
 "nbformat": 4,
 "nbformat_minor": 2
}
