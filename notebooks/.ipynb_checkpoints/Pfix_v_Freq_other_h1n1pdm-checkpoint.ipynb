{
 "cells": [
  {
   "cell_type": "code",
   "execution_count": 1,
   "metadata": {},
   "outputs": [
    {
     "data": {
      "text/plain": [
       "Plots.PyPlotBackend()"
      ]
     },
     "execution_count": 1,
     "metadata": {},
     "output_type": "execute_result"
    }
   ],
   "source": [
    "using FluPredictibility, FluPredictibility.BioTools, FluPredictibility.TreeTools\n",
    "using Plots\n",
    "using BioSequences\n",
    "using StatsBase, Dates, Measures, DataStructures, Random, \n",
    "    Statistics, DelimitedFiles, LaTeXStrings, DataFrames\n",
    "Flu = FluPredictibility\n",
    "pyplot()"
   ]
  },
  {
   "cell_type": "code",
   "execution_count": 2,
   "metadata": {},
   "outputs": [],
   "source": [
    "lineage = \"h1n1pdm\"\n",
    "\n",
    "# Alignments\n",
    "aln_ha_aa = \"../alignments/aligned_$(lineage)_ha_aa.fasta\"\n",
    "aln_na_aa = \"../alignments/aligned_$(lineage)_na_aa.fasta\"\n",
    "\n",
    "# Trees - these are based on 25 sequences per month\n",
    "nwk_raw_ha = \"../data/$(lineage)/trees/ha/tree_raw.nwk\"\n",
    "nwk_refined_ha = \"../data/$(lineage)/trees/ha/tree_refined.nwk\"\n",
    "aamuts_ha = \"../data/$(lineage)/trees/ha/aa_muts.json\"\n",
    "\n",
    "nwk_raw_na = \"../data/$(lineage)/trees/na/tree_raw.nwk\"\n",
    "nwk_refined_na = \"../data/$(lineage)/trees/na/tree_refined.nwk\"\n",
    "aamuts_na = \"../data/$(lineage)/trees/na/aa_muts.json\"\n",
    "\n",
    "# Binary positions\n",
    "binpos_ha = \"../data/$(lineage)/binary_positions_ha.txt\"\n",
    "binpos_na = \"../data/$(lineage)/binary_positions_na.txt\"\n",
    "\n",
    "# Epitope positions\n",
    "path_to_epitopes = \"../data/$(lineage)/epitopes/ha/\"\n",
    "epitope_authors = lineage==\"h3n2\" ? (\"Koel\", \"Luksza\", \"Shih\", \"Wolf\") : (\"Canton\")\n",
    "\n",
    "# Time binning \n",
    "binwidth = Day(30);\n",
    "binspacing = Day(30);\n",
    "startdate = lineage==\"h3n2\" ? Date(2000) : Date(2009, 06);\n",
    "\n",
    "# Frequency binning\n",
    "alphabins_ = 0.125:0.15:0.875\n",
    "alphabins = [(a, 0.075) for a in alphabins_];"
   ]
  },
  {
   "cell_type": "code",
   "execution_count": 3,
   "metadata": {},
   "outputs": [
    {
     "data": {
      "text/plain": [
       "2×1 Array{Any,2}:\n",
       " \"/home/pierrebc/Documents/BaleLabo/Notes/FluPredictibility/Article/Figures\"\n",
       " \"/home/pierrebc/Documents/BaleLabo/Notes/FluPredictibility/Article/SM_figures\""
      ]
     },
     "execution_count": 3,
     "metadata": {},
     "output_type": "execute_result"
    }
   ],
   "source": [
    "# For plots\n",
    "base = 18\n",
    "lfs = base # Legend font size\n",
    "alfs = base # axis label font size\n",
    "tfs = base # title font size\n",
    "atfs = base # axis ticks font size\n",
    "ga = 0.3 # grid alpha\n",
    "sizes = (1200,800) # standard size for single plots\n",
    "rl = 0.065 # position of the \"A\" or \"B\" label in % \n",
    "ms = 6 # marker size\n",
    "ls = 6 # line size\n",
    "annfs = 34\n",
    "#\n",
    "saveplots = true\n",
    "(sf_main, sf_SM) = readdlm(\"../savefolders.txt\")"
   ]
  },
  {
   "cell_type": "code",
   "execution_count": 4,
   "metadata": {},
   "outputs": [
    {
     "data": {
      "text/plain": [
       "get_trajectories (generic function with 1 method)"
      ]
     },
     "execution_count": 4,
     "metadata": {},
     "output_type": "execute_result"
    }
   ],
   "source": [
    "function get_trajectories(fp::Flu.FluPop, ph)\n",
    "    trajectories = Flu.all_trajectories(ph, keep_unfinished=false)\n",
    "    trajectories = Flu.previous_state_condition(trajectories, :lost)\n",
    "    Flu.get_strains!(trajectories, fp)\n",
    "    return trajectories\n",
    "end"
   ]
  },
  {
   "cell_type": "code",
   "execution_count": 6,
   "metadata": {},
   "outputs": [
    {
     "name": "stdout",
     "output_type": "stream",
     "text": [
      "Reading ../alignments/aligned_h1n1pdm_ha_aa.fasta...\n",
      "Read 45350 strains out of 54146. Filtered 8796. Could not read 0\n",
      "Reading ../alignments/aligned_h1n1pdm_na_aa.fasta...\n",
      "Read 40412 strains out of 42854. Filtered 2442. Could not read 0\n"
     ]
    }
   ],
   "source": [
    "fp_ha = Flu.FluPop(aln_ha_aa, :aa, Flu.flu_usual_header_fields , \n",
    "    flulineage=lineage, segment=\"ha\", ignore_read_errors=true);\n",
    "fp_na = Flu.FluPop(aln_na_aa, :aa, Flu.flu_usual_header_fields , \n",
    "    flulineage=lineage, segment=\"na\", ignore_read_errors=true);"
   ]
  },
  {
   "cell_type": "code",
   "execution_count": 7,
   "metadata": {},
   "outputs": [
    {
     "name": "stdout",
     "output_type": "stream",
     "text": [
      "468       \r"
     ]
    }
   ],
   "source": [
    "Flu.bin_by_date!(fp_ha, start=startdate, binwidth=binwidth, binspacing = binspacing);\n",
    "Flu.bin_by_date!(fp_na, start=startdate, binwidth=binwidth, binspacing = binspacing);\n",
    "ph_ha = Flu.PosEvo(fp_ha);\n",
    "ph_na = Flu.PosEvo(fp_na);"
   ]
  },
  {
   "cell_type": "code",
   "execution_count": 8,
   "metadata": {},
   "outputs": [],
   "source": [
    "traj_ha = get_trajectories(fp_ha, ph_ha);\n",
    "traj_na = get_trajectories(fp_na, ph_na);"
   ]
  },
  {
   "cell_type": "markdown",
   "metadata": {},
   "source": [
    "## LBI - HA only"
   ]
  },
  {
   "cell_type": "code",
   "execution_count": 9,
   "metadata": {},
   "outputs": [
    {
     "name": "stdout",
     "output_type": "stream",
     "text": [
      "  0.860376 seconds (1.26 M allocations: 104.651 MiB, 46.06% gc time)\n"
     ]
    }
   ],
   "source": [
    "traw_ha = read_tree(nwk_raw_ha, NodeDataType=LBIData);\n",
    "Flu.get_lbi!(fp_ha, traw_ha, verbose=false);\n",
    "Flu.compute_fitness!(traj_ha, fp_ha, :strains, strainfield=:lbi);\n",
    "dat, dat_low, dat_high = fitness_plot(traj_ha, :lbi_fitness, alphabins);"
   ]
  },
  {
   "cell_type": "code",
   "execution_count": null,
   "metadata": {},
   "outputs": [],
   "source": [
    "p = plot(size = (1200,900))\n",
    "plot!(p, dat[:,1], dat[:,2], label=\"All mutations\", line=(3))\n",
    "plot!(p, dat_high[:,1], dat_high[:,2], err=dat_high[:,3], label=\"High LBI\", line=(2), color=2)\n",
    "plot!(p, dat_low[:,1], dat_low[:,2], err=dat_low[:,3], label=\"Low LBI\", line=(2), color=3)\n",
    "plot!(p, [0,1],[0,1], label=\"\", line=(1,:black,:dashdot))\n",
    "\n",
    "plot!(xlabel=\"\", ylabel=\"Fixation probability\")\n",
    "plot!(p, legendfontsize=lfs-4, titlefontsize=tfs, guidefontsize=alfs, tickfontsize=atfs, frame=:box)\n",
    "p4_sb1 = plot(p, size=(640,480))\n",
    "annotate!(0.94, 0.06, text(\"A\",annfs))"
   ]
  },
  {
   "cell_type": "markdown",
   "metadata": {},
   "source": [
    "## Epitopes - HA only"
   ]
  },
  {
   "cell_type": "code",
   "execution_count": null,
   "metadata": {},
   "outputs": [],
   "source": [
    "xf, yf, (errdown, errup) = pfix_v_freq(ph_ha, alphabins)\n",
    "# \n",
    "p = plot(size = (1200,900))\n",
    "plot!(p, xf, yf, err=(errdown, errup), line=(:black, 6), \n",
    "    markercolor=:black, markerstrokecolor=:black, label=\"All positions\")\n",
    "# Epitopes\n",
    "for a in epitope_authors[1:end]\n",
    "    pos = vec(readdlm(\"$(path_to_epitopes)/epitope_positions_$(lowercase(a)).txt\", Int64))\n",
    "    x,y = pfix_v_freq(ph_ha[pos], alphabins)\n",
    "    plot!(p, x, y, line=(3), alpha=0.6, label=\"$a et.al.- $(length(pos))\")\n",
    "end\n",
    "# #\n",
    "plot!(p, [0,1],[0,1], label=\"\", line=(1,:black,:dashdot))\n",
    "plot!(p, xlabel=\"\", ylabel=\"\")\n",
    "plot!(p, legendfontsize=lfs-4, titlefontsize=tfs, guidefontsize=alfs, tickfontsize=atfs, frame=:box)\n",
    "p4_sb2 = plot(p, size=(640,480))\n",
    "annotate!(0.94, 0.06, text(\"B\",annfs))"
   ]
  },
  {
   "cell_type": "markdown",
   "metadata": {},
   "source": [
    "## Binary positions - HA and NA"
   ]
  },
  {
   "cell_type": "code",
   "execution_count": null,
   "metadata": {},
   "outputs": [],
   "source": [
    "binpos_ha = vec(readdlm(binpos_ha, Int64));\n",
    "binpos_na = vec(readdlm(binpos_na, Int64));\n",
    "\n",
    "nbinpos_ha = findall(x->!in(x,binpos_ha), 1:length(ph_ha)) \n",
    "nbinpos_na = findall(x->!in(x,binpos_na), 1:length(ph_na))\n",
    "\n",
    "ph_all = vcat(ph_ha, ph_ha);\n",
    "ph_bin = vcat(ph_ha[binpos_ha], ph_na[binpos_na])\n",
    "ph_nbin = vcat(ph_ha[nbinpos_ha], ph_na[nbinpos_na]);\n",
    "\n",
    "Nbinpos = length(binpos_ha) + length(binpos_na)\n",
    "Nnbinpos = length(nbinpos_ha) + length(nbinpos_na);"
   ]
  },
  {
   "cell_type": "code",
   "execution_count": null,
   "metadata": {},
   "outputs": [],
   "source": [
    "x_all, y_all, err_all = pfix_v_freq(ph_all, alphabins);\n",
    "x_nbin, y_nbin, err_nbin = pfix_v_freq(ph_nbin, alphabins);\n",
    "x_bin, y_bin, err_bin = pfix_v_freq(ph_bin, alphabins);\n",
    "\n",
    "#\n",
    "p = plot(size = (1280,960))\n",
    "plot!(p, x_all, y_all, label=\"All positions\", line=(2))\n",
    "plot!(p, x_nbin, y_nbin, err=err_nbin, label=\"Non-binary pos. - $(Nnbinpos)\", line=(2))\n",
    "plot!(p, x_bin, y_bin, err=err_bin, label=\"Binary pos. - $(Nbinpos)\", line=(2))\n",
    "plot!(p, [0,1],[0,1], label=\"\", line=(1,:black,:dashdot))\n",
    "plot!(xlabel=\"Frequency of mutation\", ylabel=\"Fixation probability\")\n",
    "plot!(p, legendfontsize=lfs-4, titlefontsize=tfs, guidefontsize=alfs, tickfontsize=atfs, frame=:box)\n",
    "#\n",
    "p4_sb3 = plot(p, size=(640, 480), legend=:bottomright)\n",
    "annotate!(0.06, 0.93, text(\"C\",annfs))\n"
   ]
  },
  {
   "cell_type": "markdown",
   "metadata": {},
   "source": [
    "## Number of times in tree - HA and NA"
   ]
  },
  {
   "cell_type": "code",
   "execution_count": null,
   "metadata": {},
   "outputs": [],
   "source": [
    "tref_ha = read_tree(nwk_refined_ha);\n",
    "Flu.read_mutations!(tref_ha, aamuts_ha);\n",
    "for traj in traj_ha\n",
    "    Flu.compute_tree_spread!(traj, tref_ha, fp_ha)\n",
    "end\n",
    "Flu.compute_fitness!(traj_ha, fp_ha, :treespread,)\n",
    "\n",
    "# \n",
    "tref_na = read_tree(nwk_refined_na);\n",
    "Flu.read_mutations!(tref_na, aamuts_na, lineage=lineage, segment=\"na\");\n",
    "for traj in traj_na\n",
    "    Flu.compute_tree_spread!(traj, tref_na, fp_na)\n",
    "end\n",
    "Flu.compute_fitness!(traj_na, fp_na, :treespread,)"
   ]
  },
  {
   "cell_type": "code",
   "execution_count": null,
   "metadata": {},
   "outputs": [],
   "source": [
    "dat, dat_low, dat_high = fitness_plot(vcat(traj_ha, traj_ha),\n",
    "    :treespread_fitness, alphabins);"
   ]
  },
  {
   "cell_type": "code",
   "execution_count": null,
   "metadata": {},
   "outputs": [],
   "source": [
    "p = plot(size = (1280,960))\n",
    "plot!(p, dat[:,1], dat[:,2], label=\"All mutations\", line=(3))\n",
    "plot!(p, dat_high[:,1], dat_high[:,2], err=dat_high[:,3], label=\"Found >1 time in tree\", line=(2))\n",
    "plot!(p, dat_low[:,1], dat_low[:,2], err=dat_low[:,3], label=\"Found once in tree\", line=(2))\n",
    "plot!(p, [0,1],[0,1], label=\"\", line=(1,:black,:dashdot))\n",
    "\n",
    "plot!(xlabel=\"Frequency of mutation\", ylabel=\"Fixation probability\")\n",
    "plot!(p, legendfontsize=lfs-4, titlefontsize=tfs, guidefontsize=alfs, tickfontsize=atfs, frame=:box)\n",
    "p4_sb4 = plot(p, size=(640, 480), legend=:bottomright)\n",
    "annotate!(0.06, 0.93, text(\"D\",annfs))"
   ]
  },
  {
   "cell_type": "code",
   "execution_count": null,
   "metadata": {},
   "outputs": [],
   "source": [
    "p = plot(p4_sb1, p4_sb2, p4_sb3, p4_sb4, layout = grid(2,2), size=(1280,960), margin= 5mm)\n",
    "# saveplots && savefig(p, \"$(sf_main)/Panel4.png\")\n",
    "saveplots && savefig(p, \"$(sf_SM)/pfix_v_freq_h1n1pdm.png\")"
   ]
  },
  {
   "cell_type": "markdown",
   "metadata": {},
   "source": [
    "## Geographic spread - HA and NA"
   ]
  },
  {
   "cell_type": "code",
   "execution_count": null,
   "metadata": {},
   "outputs": [],
   "source": [
    "Flu.get_regions!(traj_ha, fp_ha)\n",
    "Flu.compute_fitness!(traj_ha, fp_ha, :region);\n",
    "\n",
    "Flu.get_regions!(traj_na, fp_na)\n",
    "Flu.compute_fitness!(traj_na, fp_na, :region);\n",
    "#\n",
    "dat, dat_low, dat_high = fitness_plot(vcat(traj_ha, traj_na), :region_fitness, alphabins);"
   ]
  },
  {
   "cell_type": "code",
   "execution_count": null,
   "metadata": {},
   "outputs": [],
   "source": [
    "p = plot(size = (1200,900))\n",
    "plot!(p, dat[:,1], dat[:,2], label=\"All mutations\", line=(2))\n",
    "plot!(p, dat[:,1], dat_high[:,2], label=\"Global mutations\", line=(2))\n",
    "plot!(p, dat[:,1], dat_low[:,2], label=\"Local mutations\", line=(2))\n",
    "plot!(p, [0,1],[0,1], label=\"\", line=(1,:black,:dashdot))\n",
    "\n",
    "plot!(xlabel=\"Frequency of mutation\", ylabel=\"Fixation probability\")\n",
    "plot!(p, legendfontsize=lfs-4, titlefontsize=tfs, guidefontsize=alfs, tickfontsize=atfs, frame=:box)\n",
    "p_sm2_sb1 = plot(p, size=(640,640))\n",
    "annotate!(0.94, 0.06, text(\"A\",annfs))"
   ]
  },
  {
   "cell_type": "markdown",
   "metadata": {},
   "source": [
    "## Age of trajectory - HA and NA"
   ]
  },
  {
   "cell_type": "code",
   "execution_count": null,
   "metadata": {},
   "outputs": [],
   "source": [
    "Flu.compute_fitness!(traj_ha, fp_ha, :date)\n",
    "Flu.compute_fitness!(traj_na, fp_na, :date)\n",
    "#\n",
    "dat, dat_low, dat_high = fitness_plot(vcat(traj_ha, traj_na), :date_fitness, alphabins);"
   ]
  },
  {
   "cell_type": "code",
   "execution_count": null,
   "metadata": {},
   "outputs": [],
   "source": [
    "p = plot(size = (1200,900))\n",
    "plot!(p, dat[:,1], dat[:,2], label=\"All mutations\", line=(3))\n",
    "plot!(p, dat[:,1], dat_high[:,2], label=\"Old trajectories\", line=(2))\n",
    "plot!(p, dat[:,1], dat_low[:,2], label=\"Recent trajectories\", line=(2))\n",
    "plot!(p, [0,1],[0,1], label=\"\", line=(1,:black,:dashdot))\n",
    "\n",
    "plot!(xlabel=\"Frequency of mutation\", ylabel=\"\")\n",
    "plot!(p, legendfontsize=lfs-4, titlefontsize=tfs, guidefontsize=alfs, tickfontsize=atfs, frame=:box)\n",
    "p_sm2_sb2 = plot(p, size=(640, 640), legend=:topleft)\n",
    "annotate!(0.94, 0.06, text(\"B\",annfs))"
   ]
  },
  {
   "cell_type": "code",
   "execution_count": null,
   "metadata": {},
   "outputs": [],
   "source": [
    "p_sm2 = plot(p_sm2_sb1, p_sm2_sb2, layout=grid(1,2), size=(1280, 640))\n",
    "saveplots && savefig(\"$(sf_SM)/geospread_and_time_$(lineage).png\")"
   ]
  }
 ],
 "metadata": {
  "kernelspec": {
   "display_name": "Julia 1.4.1",
   "language": "julia",
   "name": "julia-1.4"
  },
  "language_info": {
   "file_extension": ".jl",
   "mimetype": "application/julia",
   "name": "julia",
   "version": "1.4.1"
  }
 },
 "nbformat": 4,
 "nbformat_minor": 2
}
