{
 "cells": [
  {
   "cell_type": "code",
   "execution_count": null,
   "metadata": {},
   "outputs": [
    {
     "name": "stderr",
     "output_type": "stream",
     "text": [
      "┌ Info: Precompiling FluPredictibility [82171f4a-8572-11ea-04d1-2bb9959a1fa8]\n",
      "└ @ Base loading.jl:1260\n"
     ]
    }
   ],
   "source": [
    "using FluPredictibility\n",
    "using FluPredictibility.BioTools, FluPredictibility.TreeTools\n",
    "using BioSequences\n",
    "using Plots, StatsPlots\n",
    "using StatsBase, Dates, Measures, DataStructures\n",
    "using Random, Statistics, DelimitedFiles\n",
    "using LaTeXStrings\n",
    "include(\"../plot_functions.jl\")\n",
    "pyplot()\n",
    "Flu = FluPredictibility"
   ]
  },
  {
   "cell_type": "code",
   "execution_count": 3,
   "metadata": {},
   "outputs": [
    {
     "data": {
      "text/plain": [
       "38"
      ]
     },
     "execution_count": 3,
     "metadata": {},
     "output_type": "execute_result"
    }
   ],
   "source": [
    "base = 20\n",
    "lfs = base # Legend font size\n",
    "alfs = base # axis label font size\n",
    "tfs = base # title font size\n",
    "atfs = base # axis ticks font size\n",
    "ga = 0.3 # grid alpha\n",
    "sizes = (1200,800) # standard size for single plots\n",
    "rl = 0.065 # position of the \"A\" or \"B\" label in % \n",
    "ms = 6 # marker size\n",
    "ls = 6 # line size\n",
    "annfs = 38"
   ]
  },
  {
   "cell_type": "code",
   "execution_count": null,
   "metadata": {},
   "outputs": [],
   "source": [
    "BioTools.Flu."
   ]
  },
  {
   "cell_type": "code",
   "execution_count": null,
   "metadata": {},
   "outputs": [],
   "source": [
    "fp_ha = Flu.FluPop(\"../alignments/aligned_h3n2_ha_aa.fasta\", :aa, Flu.flu_usual_header_fields , \n",
    "    flulineage=\"h3n2\", segment=\"ha\",);"
   ]
  },
  {
   "cell_type": "markdown",
   "metadata": {},
   "source": [
    "## Activity time"
   ]
  },
  {
   "cell_type": "code",
   "execution_count": null,
   "metadata": {},
   "outputs": [],
   "source": [
    "binwidth = Day(60);\n",
    "binspacing = Day(60);\n",
    "startdate = Date(2000)\n",
    "Flu.bin_by_date!(fp_ha, start=startdate, binwidth=binwidth, binspacing = binspacing);"
   ]
  },
  {
   "cell_type": "code",
   "execution_count": null,
   "metadata": {},
   "outputs": [],
   "source": [
    "ph_ha = Flu.PosEvo(fp_ha);"
   ]
  },
  {
   "cell_type": "code",
   "execution_count": null,
   "metadata": {},
   "outputs": [],
   "source": [
    "trajectories1 = Flu.all_trajectories(ph_ha, keep_unfinished=true);\n",
    "trajectories1 = Flu.previous_state_condition(trajectories1, :lost);\n",
    "trajectories1 = Flu.population_size_condition(trajectories1, 10);\n",
    "trajectories1 = Flu.min_frequency_condition(trajectories1, 0.2);"
   ]
  },
  {
   "cell_type": "code",
   "execution_count": null,
   "metadata": {},
   "outputs": [],
   "source": [
    "activity_dict = Dict()\n",
    "max_t = 10*365\n",
    "dt = binspacing.value\n",
    "for traj in trajectories1\n",
    "    tmp = Dict()\n",
    "    i = findfirst(x->x==traj.fixation, [:fixed, :lost])\n",
    "    for t in [x.value for x in traj.t[2:end-1]] .- traj.t[1].value .- dt\n",
    "        tmp[t] = get(tmp, t, [0,0,0]) + [1,0,0]\n",
    "    end\n",
    "    \n",
    "    for t in (traj.t[end].value - traj.t[1].value - dt):dt:max_t\n",
    "        tmp[t] = get(tmp, t, [0,0,0]) + Int64.([0,traj.fixation==:lost,traj.fixation==:fixed])\n",
    "    end\n",
    "    \n",
    "    for (t,v) in tmp\n",
    "        activity_dict[t] = get(activity_dict, t, [0,0,0]) + tmp[t]\n",
    "    end\n",
    "end"
   ]
  },
  {
   "cell_type": "code",
   "execution_count": null,
   "metadata": {},
   "outputs": [],
   "source": [
    "active = [x[1]/sum(x) for x in values(activity_dict)]\n",
    "lost = [x[2]/sum(x) for x in values(activity_dict)]\n",
    "fixed = [x[3]/sum(x) for x in values(activity_dict)];\n",
    "n = [Float64(sum(x)) for x in values(activity_dict)]\n",
    "times = collect(keys(activity_dict))\n",
    "tmp = sortperm(times)\n",
    "active = Float64.(active[tmp]); lost = Float64.(lost[tmp]); \n",
    "fixed = Float64.(fixed[tmp]); times = Float64.(times[tmp]); n = n[tmp];"
   ]
  },
  {
   "cell_type": "code",
   "execution_count": null,
   "metadata": {},
   "outputs": [],
   "source": [
    "p = plot(times, active .+ 0.0001, label=\"Active\", line = (3), marker=(:+, 8))\n",
    "plot!(times, lost, label=\"Lost\", line = (3), marker=(:+, 8))\n",
    "plot!(times, fixed, label=\"Fixed\", line = (3), marker=(:+, 8))\n",
    "plot!(xlim = (-10,5*365 + 60))\n",
    "# plot!(xticks=([i*365 for i in 0:5],[i==1 ? \"1 year\" : \"$i years\" for i in 0:5]))\n",
    "plot!(xticks=([i*365 for i in 0:5],[\"$i y\" for i in 0:5]))\n",
    "plot!(p,size=(1280, 480),frame=:box, title=\"\", xlabel=\"Years from start\", ylabel=\"Fraction\")\n",
    "plot!(p, tickfontsize=tfs, legendfontsize=lfs, guidefontsize=alfs,titlefontsize=alfs)\n",
    "annotate!(p, 175, 0.96, text(\"A\", annfs))\n",
    "p3_sb1 = p\n",
    "plot!(p, size=(960, 960))"
   ]
  },
  {
   "cell_type": "markdown",
   "metadata": {},
   "source": [
    "## Pfix v freq"
   ]
  },
  {
   "cell_type": "code",
   "execution_count": null,
   "metadata": {},
   "outputs": [],
   "source": [
    "binwidth = Day(30);\n",
    "binspacing = Day(30);\n",
    "startdate = Date(2000)\n",
    "Flu.bin_by_date!(fp_ha, start=startdate, binwidth=binwidth, binspacing = binspacing);"
   ]
  },
  {
   "cell_type": "code",
   "execution_count": null,
   "metadata": {},
   "outputs": [],
   "source": [
    "ph_ha = Flu.PosEvo(fp_ha);"
   ]
  },
  {
   "cell_type": "code",
   "execution_count": null,
   "metadata": {},
   "outputs": [],
   "source": [
    "trajectories_tmp = Flu.all_trajectories(ph_ha, keep_unfinished=false)\n",
    "const trajectories = Flu.previous_state_condition(trajectories_tmp, :lost)\n",
    "Flu.get_strains!(trajectories, fp_ha)"
   ]
  },
  {
   "cell_type": "code",
   "execution_count": null,
   "metadata": {},
   "outputs": [],
   "source": [
    "alphabins_ = 0.125:0.15:0.875\n",
    "alphabins = [(a, 0.075) for a in alphabins_];"
   ]
  },
  {
   "cell_type": "code",
   "execution_count": null,
   "metadata": {},
   "outputs": [],
   "source": [
    "# And adding NA\n",
    "na_aln = \"../alignments/aligned_h3n2_na_aa.fasta\"\n",
    "fp_na = Flu.FluPop(na_aln, :aa, Flu.flu_usual_header_fields, flulineage=\"h3n2\", segment=\"na\");\n",
    "Flu.bin_by_date!(fp_na, start=startdate, binwidth=binwidth, binspacing=binspacing);\n",
    "ph_na = Flu.PosEvo(fp_na);"
   ]
  },
  {
   "cell_type": "code",
   "execution_count": null,
   "metadata": {},
   "outputs": [],
   "source": [
    "monomorphic_positions_ha = vec(readdlm(\"../data/monomorphic_positions_ha.txt\", Int64));\n",
    "mpos_ha = vcat([(i-1)*3 .+ [1,2,3] for i in monomorphic_positions_ha]...);\n",
    "#\n",
    "fp_ha_nt = Flu.FluPop(\"../alignments/aligned_h3n2_ha.fasta\", :dna, Flu.flu_usual_header_fields,\n",
    "    flulineage=\"h3n2\", segment=\"ha\");\n",
    "Flu.bin_by_date!(fp_ha_nt, start=Date(2000), binwidth=Day(30), binspacing=Day(30));\n",
    "#\n",
    "ph_ha_nt = Flu.PosEvo(fp_ha_nt);"
   ]
  },
  {
   "cell_type": "code",
   "execution_count": null,
   "metadata": {},
   "outputs": [],
   "source": [
    "monomorphic_positions_na = vec(readdlm(\"../data/monomorphic_positions_na.txt\", Int64));\n",
    "mpos_na = vcat([(i-1)*3 .+ [1,2,3] for i in monomorphic_positions_na]...);\n",
    "#\n",
    "fp_na_nt = Flu.FluPop(\"../alignments/aligned_h3n2_na.fasta\", :dna, Flu.flu_usual_header_fields,\n",
    "    flulineage=\"h3n2\", segment=\"ha\");\n",
    "Flu.bin_by_date!(fp_na_nt, start=Date(2000), binwidth=Day(30), binspacing=Day(30));\n",
    "#\n",
    "ph_na_nt = Flu.PosEvo(fp_na_nt);"
   ]
  },
  {
   "cell_type": "markdown",
   "metadata": {},
   "source": [
    "# Pfix v Frequency basic"
   ]
  },
  {
   "cell_type": "code",
   "execution_count": null,
   "metadata": {},
   "outputs": [],
   "source": [
    "xna,yna,errna = pfix_v_freq(ph_na, alphabins);\n",
    "xha, yha, errha = pfix_v_freq(ph_ha, alphabins);\n",
    "# \n",
    "xha_s, yha_s, e = pfix_v_freq(ph_ha_nt[mpos_ha], alphabins);\n",
    "xna_s, yna_s, e = pfix_v_freq(ph_na_nt[mpos_na], alphabins);"
   ]
  },
  {
   "cell_type": "code",
   "execution_count": null,
   "metadata": {},
   "outputs": [],
   "source": [
    "p = plot(size = (1280,960))\n",
    "plot!(p, xha, yha, yerr=errha, label=\"HA - Non syn.\", line=(3))\n",
    "plot!(p, xna, yna, yerr=errna, label=\"NA - Non syn.\", line=(3))\n",
    "plot!(p, xha_s, yha_s, label=\"HA - Syn.\", line=(2, :dash), color=1)\n",
    "plot!(p, xna_s, yna_s, label=\"NA - Syn.\", line=(2, :dash), color=2)\n",
    "plot!(p, [0,1],[0,1], label=\"\", line=(1,:black,:dashdot))\n",
    "\n",
    "plot!(xlabel=\"Frequency of mutation\", ylabel=\"Fixation probability\", legend=:bottomright)\n",
    "plot!(p, legendfontsize=lfs, titlefontsize=tfs, guidefontsize=alfs, tickfontsize=atfs, frame=:box)\n",
    "\n",
    "p3_sb2 = plot(p, size=(960,960))\n",
    "annotate!(p3_sb2, 0.06, 0.96, text(\"B\", annfs))"
   ]
  },
  {
   "cell_type": "code",
   "execution_count": null,
   "metadata": {},
   "outputs": [],
   "source": [
    "p3 = plot(p3_sb1, p3_sb2, layout=grid(1,2), size=(1280*1.2, 640*1.2), margin=5mm)"
   ]
  },
  {
   "cell_type": "code",
   "execution_count": null,
   "metadata": {},
   "outputs": [],
   "source": []
  },
  {
   "cell_type": "markdown",
   "metadata": {},
   "source": [
    "## Positive derivative"
   ]
  },
  {
   "cell_type": "code",
   "execution_count": null,
   "metadata": {},
   "outputs": [],
   "source": [
    "xha, yha, errha = pfix_v_freq_positivederivative(ph_ha, alphabins);\n",
    "xna, yna, errna = pfix_v_freq_positivederivative(ph_na, alphabins);"
   ]
  },
  {
   "cell_type": "code",
   "execution_count": null,
   "metadata": {},
   "outputs": [],
   "source": [
    "p = plot(size = (1280,960))\n",
    "plot!(p, xha, yha, yerr=errha, label=\"Influenza HA\", line=(3))\n",
    "plot!(p, xna, yna, yerr=errna, label=\"Influenza NA\", line=(3))\n",
    "plot!(p, [0,1],[0,1], label=\"\", line=(1,:black,:dashdot))\n",
    "\n",
    "plot!(xlabel=\"Frequency of mutation\", ylabel=\"Fixation probability\")\n",
    "plot!(p, legendfontsize=lfs, titlefontsize=tfs, guidefontsize=alfs, tickfontsize=atfs, frame=:box)\n",
    "p_sm1_sb3 = p;"
   ]
  },
  {
   "cell_type": "markdown",
   "metadata": {},
   "source": [
    "# LBI"
   ]
  },
  {
   "cell_type": "code",
   "execution_count": null,
   "metadata": {},
   "outputs": [],
   "source": [
    "t = read_tree(\"../data/tree_raw.nwk\", NodeDataType=LBIData);\n",
    "Flu.get_lbi!(fp_ha, t, verbose=false);\n",
    "Flu.compute_fitness!(trajectories, fp_ha, :strains, strainfield=:lbi);\n",
    "dat, dat_low, dat_high = fitness_plot(trajectories, :lbi_fitness);"
   ]
  },
  {
   "cell_type": "code",
   "execution_count": null,
   "metadata": {},
   "outputs": [],
   "source": [
    "p = plot(size = (1200,900))\n",
    "plot!(p, dat[:,1], dat[:,2], label=\"All mutations\", line=(3))\n",
    "plot!(p, dat_high[:,1], dat_high[:,2], err=dat_high[:,3], label=\"High LBI\", line=(2), color=2)\n",
    "plot!(p, dat_low[:,1], dat_low[:,2], err=dat_low[:,3], label=\"Low LBI\", line=(2), color=3)\n",
    "plot!(p, [0,1],[0,1], label=\"\", line=(1,:black,:dashdot))\n",
    "\n",
    "plot!(xlabel=\"\", ylabel=\"Fixation probability\")\n",
    "plot!(p, legendfontsize=lfs-2, titlefontsize=tfs, guidefontsize=alfs, tickfontsize=atfs, frame=:box)\n",
    "p4_sb1 = plot(p, size=(640,480))\n",
    "annotate!(0.94, 0.06, text(\"A\",annfs))"
   ]
  },
  {
   "cell_type": "markdown",
   "metadata": {},
   "source": [
    "## Epitope positions"
   ]
  },
  {
   "cell_type": "code",
   "execution_count": null,
   "metadata": {},
   "outputs": [],
   "source": [
    "authors = (\"Koel\", \"Luksza\", \"Shih\", \"Wolf\")\n",
    "path = \"../data/epitopes/ha\";\n",
    "#\n",
    "xf, yf, (errdown, errup) = pfix_v_freq(ph_ha, alphabins)\n",
    "# \n",
    "p = plot(size = (1200,900))\n",
    "plot!(p, xf, yf, err=(errdown, errup), line=(:black, 6), \n",
    "    markercolor=:black, markerstrokecolor=:black, label=\"All positions\")\n",
    "# Epitopes\n",
    "for a in authors[1:end]\n",
    "    pos = vec(readdlm(\"$(path)/epitope_positions_$(lowercase(a)).txt\", Int64))\n",
    "    x,y = pfix_v_freq(ph_ha[pos], alphabins)\n",
    "    plot!(p, x, y, line=(3), alpha=0.6, label=\"$a et.al.- $(length(pos))\")\n",
    "end\n",
    "# #\n",
    "plot!(p, [0,1],[0,1], label=\"\", line=(1,:black,:dashdot))\n",
    "plot!(p, xlabel=\"\", ylabel=\"\")\n",
    "plot!(p, legendfontsize=lfs-8, titlefontsize=tfs, guidefontsize=alfs, tickfontsize=atfs, frame=:box)\n",
    "p4_sb2 = plot(p, size=(640,480))\n",
    "annotate!(0.94, 0.06, text(\"B\",annfs))"
   ]
  },
  {
   "cell_type": "markdown",
   "metadata": {},
   "source": [
    "## Binary positions"
   ]
  },
  {
   "cell_type": "code",
   "execution_count": null,
   "metadata": {},
   "outputs": [],
   "source": [
    "binpos = vec(readdlm(\"../data/binary_positions_ha.txt\", Int64));\n",
    "nbinpos = findall(x->!in(x,binpos), 1:566) ;\n",
    "#\n",
    "xha, yha, errha = pfix_v_freq(ph_ha, alphabins);\n",
    "xha_bin, yha_bin, errha_bin = pfix_v_freq(ph_ha[binpos], alphabins);\n",
    "xha_nbin, yha_nbin, errha_nbin = pfix_v_freq(ph_ha[nbinpos], alphabins);\n",
    "#\n",
    "p = plot(size = (1280,960))\n",
    "plot!(p, xha, yha, label=\"All positions\", line=(2))\n",
    "plot!(p, xha_nbin, yha_nbin, err=errha_nbin, label=\"Non-binary pos. - $(length(nbinpos))\", line=(2))\n",
    "plot!(p, xha_bin, yha_bin, err=errha_bin, label=\"Binary pos. - $(length(binpos))\", line=(2))\n",
    "plot!(p, [0,1],[0,1], label=\"\", line=(1,:black,:dashdot))\n",
    "plot!(xlabel=\"Frequency of mutation\", ylabel=\"Fixation probability\")\n",
    "plot!(p, legendfontsize=lfs-8, titlefontsize=tfs, guidefontsize=alfs, tickfontsize=atfs, frame=:box)\n",
    "#\n",
    "p4_sb3 = plot(p, size=(640, 480), legend=:bottomright)\n",
    "annotate!(0.06, 0.93, text(\"C\",annfs))"
   ]
  },
  {
   "cell_type": "markdown",
   "metadata": {},
   "source": [
    "## Number of times in tree"
   ]
  },
  {
   "cell_type": "code",
   "execution_count": null,
   "metadata": {},
   "outputs": [],
   "source": [
    "t = read_tree(\"../data/tree_refined.nwk\");\n",
    "mutfile = \"../data/aa_muts.json\"\n",
    "Flu.read_mutations!(t, mutfile);\n",
    "for traj in trajectories\n",
    "    Flu.compute_tree_spread!(traj, t, fp_ha)\n",
    "end\n",
    "Flu.compute_fitness!(trajectories, fp_ha, :treespread,)\n",
    "dat, dat_low, dat_high = fitness_plot(trajectories, :treespread_fitness);"
   ]
  },
  {
   "cell_type": "code",
   "execution_count": null,
   "metadata": {},
   "outputs": [],
   "source": [
    "p = plot(size = (1280,960))\n",
    "plot!(p, dat[:,1], dat[:,2], label=\"All mutations\", line=(3))\n",
    "plot!(p, dat_high[:,1], dat_high[:,2], err=dat_high[:,3], label=\"Found >1 time in tree\", line=(2))\n",
    "plot!(p, dat_low[:,1], dat_low[:,2], err=dat_low[:,3], label=\"Found once in tree\", line=(2))\n",
    "plot!(p, [0,1],[0,1], label=\"\", line=(1,:black,:dashdot))\n",
    "\n",
    "plot!(xlabel=\"Frequency of mutation\", ylabel=\"Fixation probability\")\n",
    "plot!(p, legendfontsize=lfs-8, titlefontsize=tfs, guidefontsize=alfs, tickfontsize=atfs, frame=:box)\n",
    "p4_sb4 = plot(p, size=(640, 480), legend=:bottomright)\n",
    "annotate!(0.06, 0.93, text(\"D\",annfs))"
   ]
  },
  {
   "cell_type": "markdown",
   "metadata": {},
   "source": [
    "## Panel"
   ]
  },
  {
   "cell_type": "code",
   "execution_count": null,
   "metadata": {},
   "outputs": [],
   "source": [
    "plot(p4_sb1, p4_sb2, p4_sb3, p4_sb4, layout = grid(2,2), size=(1280,960), margin= 5mm)"
   ]
  },
  {
   "cell_type": "markdown",
   "metadata": {},
   "source": [
    "# SM panel geo"
   ]
  },
  {
   "cell_type": "markdown",
   "metadata": {},
   "source": [
    "## Geography"
   ]
  },
  {
   "cell_type": "code",
   "execution_count": null,
   "metadata": {},
   "outputs": [],
   "source": [
    "Flu.get_regions!(trajectories, fp_ha)\n",
    "Flu.compute_fitness!(trajectories, fp_ha, :region);\n",
    "dat, dat_low, dat_high = fitness_plot(trajectories, :region_fitness);"
   ]
  },
  {
   "cell_type": "code",
   "execution_count": null,
   "metadata": {},
   "outputs": [],
   "source": [
    "dat, dat_low, dat_high = fitness_plot(trajectories, :region_fitness);\n",
    "p = plot(size = (1200,900))\n",
    "plot!(p, dat[:,1], dat[:,2], label=\"All mutations\", line=(2))\n",
    "plot!(p, dat[:,1], dat_high[:,2], label=\"Global mutations\", line=(2))\n",
    "plot!(p, dat[:,1], dat_low[:,2], label=\"Local mutations\", line=(2))\n",
    "plot!(p, [0,1],[0,1], label=\"\", line=(1,:black,:dashdot))\n",
    "\n",
    "plot!(xlabel=\"Frequency of mutation\", ylabel=\"Fixation probability\")\n",
    "plot!(p, legendfontsize=lfs-4, titlefontsize=tfs, guidefontsize=alfs, tickfontsize=atfs, frame=:box)\n",
    "p_sm2_sb1 = plot(p, size=(640,640))\n",
    "annotate!(0.94, 0.06, text(\"A\",annfs))"
   ]
  },
  {
   "cell_type": "markdown",
   "metadata": {},
   "source": [
    "## Date"
   ]
  },
  {
   "cell_type": "code",
   "execution_count": null,
   "metadata": {},
   "outputs": [],
   "source": [
    "Flu.compute_fitness!(trajectories, fp_ha, :date)\n",
    "dat, dat_low, dat_high = fitness_plot(trajectories, :date_fitness);"
   ]
  },
  {
   "cell_type": "code",
   "execution_count": null,
   "metadata": {},
   "outputs": [],
   "source": [
    "dat, dat_low, dat_high = fitness_plot(trajectories, :date_fitness);\n",
    "p = plot(size = (1200,900))\n",
    "plot!(p, dat[:,1], dat[:,2], label=\"All mutations\", line=(3))\n",
    "plot!(p, dat[:,1], dat_high[:,2], label=\"Old trajectories\", line=(2))\n",
    "plot!(p, dat[:,1], dat_low[:,2], label=\"Recent trajectories\", line=(2))\n",
    "plot!(p, [0,1],[0,1], label=\"\", line=(1,:black,:dashdot))\n",
    "\n",
    "plot!(xlabel=\"Frequency of mutation\", ylabel=\"\")\n",
    "plot!(p, legendfontsize=lfs-4, titlefontsize=tfs, guidefontsize=alfs, tickfontsize=atfs, frame=:box)\n",
    "p_sm2_sb2 = plot(p, size=(640, 640), legend=:topleft)\n",
    "annotate!(0.94, 0.06, text(\"B\",annfs))"
   ]
  },
  {
   "cell_type": "markdown",
   "metadata": {},
   "source": [
    "## Panel"
   ]
  },
  {
   "cell_type": "code",
   "execution_count": null,
   "metadata": {},
   "outputs": [],
   "source": [
    "p_sm2 = plot(p_sm2_sb1, p_sm2_sb2, layout=grid(1,2), size=(1280, 640))"
   ]
  },
  {
   "cell_type": "markdown",
   "metadata": {},
   "source": [
    "## Synonymous mutations"
   ]
  },
  {
   "cell_type": "markdown",
   "metadata": {},
   "source": [
    "## Binary positions\n",
    "Positions for which only 2 amino acids are seen at any given time"
   ]
  },
  {
   "cell_type": "code",
   "execution_count": null,
   "metadata": {},
   "outputs": [],
   "source": [
    "binpos = vec(readdlm(\"../data/binary_positions_ha.txt\", Int64));\n",
    "nbinpos = findall(x->!in(x,binpos), 1:566) ;\n",
    "#\n",
    "xha, yha, errha = pfix_v_freq(ph_ha, alphabins);\n",
    "xha_bin, yha_bin, errha_bin = pfix_v_freq(ph_ha[binpos], alphabins);\n",
    "xha_nbin, yha_nbin, errha_nbin = pfix_v_freq(ph_ha[nbinpos], alphabins);\n",
    "p = plot(size = (1280,960))\n",
    "plot!(p, xha, yha, label=\"All positions\", line=(2))\n",
    "plot!(p, xha_bin, yha_bin, label=\"Binary positions\", line=(2))\n",
    "plot!(p, xha_nbin, yha_nbin, label=\"Non-binary positions\", line=(2))\n",
    "plot!(p, [0,1],[0,1], label=\"\", line=(1,:black,:dashdot))\n"
   ]
  },
  {
   "cell_type": "code",
   "execution_count": null,
   "metadata": {},
   "outputs": [],
   "source": []
  },
  {
   "cell_type": "code",
   "execution_count": null,
   "metadata": {},
   "outputs": [],
   "source": []
  },
  {
   "cell_type": "code",
   "execution_count": null,
   "metadata": {},
   "outputs": [],
   "source": []
  },
  {
   "cell_type": "code",
   "execution_count": null,
   "metadata": {},
   "outputs": [],
   "source": []
  },
  {
   "cell_type": "code",
   "execution_count": null,
   "metadata": {},
   "outputs": [],
   "source": []
  }
 ],
 "metadata": {
  "kernelspec": {
   "display_name": "Julia 1.4.1",
   "language": "julia",
   "name": "julia-1.4"
  },
  "language_info": {
   "file_extension": ".jl",
   "mimetype": "application/julia",
   "name": "julia",
   "version": "1.4.1"
  }
 },
 "nbformat": 4,
 "nbformat_minor": 2
}
